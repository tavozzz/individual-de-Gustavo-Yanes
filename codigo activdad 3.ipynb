{
 "cells": [
  {
   "cell_type": "code",
   "execution_count": null,
   "id": "e9fbbcf8-9e65-43be-8a6c-bde4548277d3",
   "metadata": {},
   "outputs": [],
   "source": [
    "!pip install fpdf2 openpyxl pyttsx3 --quiet"
   ]
  },
  {
   "cell_type": "code",
   "execution_count": 1,
   "id": "843182f5-a7c9-4111-a43b-948a905fdda9",
   "metadata": {},
   "outputs": [
    {
     "ename": "ModuleNotFoundError",
     "evalue": "No module named 'pyttsx3'",
     "output_type": "error",
     "traceback": [
      "\u001b[0;31m---------------------------------------------------------------------------\u001b[0m",
      "\u001b[0;31mModuleNotFoundError\u001b[0m                       Traceback (most recent call last)",
      "Cell \u001b[0;32mIn[1], line 3\u001b[0m\n\u001b[1;32m      1\u001b[0m \u001b[38;5;28;01mimport\u001b[39;00m \u001b[38;5;21;01mos\u001b[39;00m\n\u001b[1;32m      2\u001b[0m \u001b[38;5;28;01mimport\u001b[39;00m \u001b[38;5;21;01mdatetime\u001b[39;00m\n\u001b[0;32m----> 3\u001b[0m \u001b[38;5;28;01mimport\u001b[39;00m \u001b[38;5;21;01mpyttsx3\u001b[39;00m \u001b[38;5;66;03m# type: ignore\u001b[39;00m\n\u001b[1;32m      4\u001b[0m \u001b[38;5;28;01mfrom\u001b[39;00m \u001b[38;5;21;01mfpdf\u001b[39;00m \u001b[38;5;28;01mimport\u001b[39;00m FPDF\n\u001b[1;32m      5\u001b[0m \u001b[38;5;28;01mfrom\u001b[39;00m \u001b[38;5;21;01mopenpyxl\u001b[39;00m \u001b[38;5;28;01mimport\u001b[39;00m Workbook\n",
      "\u001b[0;31mModuleNotFoundError\u001b[0m: No module named 'pyttsx3'"
     ]
    }
   ],
   "source": [
    "import os\n",
    "import datetime\n",
    "import pyttsx3 # type: ignore\n",
    "from fpdf import FPDF\n",
    "from openpyxl import Workbook"
   ]
  },
  {
   "cell_type": "code",
   "execution_count": 2,
   "id": "7db40e71-8a54-49c4-b091-f5e3f6f61f1d",
   "metadata": {},
   "outputs": [],
   "source": [
    "class Producto:\n",
    "    def __init__(self, nombre, precio, id_producto):\n",
    "        self.nombre = nombre\n",
    "        self.precio = precio\n",
    "        self.id_producto = id_producto\n",
    "\n",
    "    def get_precio(self):\n",
    "        return self.precio\n",
    "\n",
    "    def __str__(self):\n",
    "        return f\"{self.nombre} - ${self.precio:.2f}\""
   ]
  },
  {
   "cell_type": "code",
   "execution_count": 3,
   "id": "d4e106a4-d86c-4cf5-8379-d077154c75f7",
   "metadata": {},
   "outputs": [
    {
     "ename": "SyntaxError",
     "evalue": "invalid syntax (3968064160.py, line 1)",
     "output_type": "error",
     "traceback": [
      "\u001b[0;36m  Cell \u001b[0;32mIn[3], line 1\u001b[0;36m\u001b[0m\n\u001b[0;31m    lass Carrito:\u001b[0m\n\u001b[0m         ^\u001b[0m\n\u001b[0;31mSyntaxError\u001b[0m\u001b[0;31m:\u001b[0m invalid syntax\n"
     ]
    }
   ],
   "source": [
    "lass Carrito:\n",
    "    def __init__(self):\n",
    "        self.productos = {}\n",
    "\n",
    "    def agregar_producto(self, producto, cantidad=1):\n",
    "        if producto.id_producto in self.productos:\n",
    "            self.productos[producto.id_producto]['cantidad'] += cantidad\n",
    "        else:\n",
    "            self.productos[producto.id_producto] = {'producto': producto, 'cantidad': cantidad}\n",
    "\n",
    "    def eliminar_producto(self, id_producto):\n",
    "        if id_producto in self.productos:\n",
    "            del self.productos[id_producto]\n",
    "\n",
    "    def modificar_cantidad(self, id_producto, nueva_cantidad):\n",
    "        if id_producto in self.productos:\n",
    "            if nueva_cantidad <= 0:\n",
    "                self.eliminar_producto(id_producto)\n",
    "            else:\n",
    "                self.productos[id_producto]['cantidad'] = nueva_cantidad\n",
    "\n",
    "    def calcular_total(self, descuento_porcentaje=0):\n",
    "        total = sum(p['producto'].precio * p['cantidad'] for p in self.productos.values())\n",
    "        descuento = total * (descuento_porcentaje / 100)\n",
    "        return total - descuento\n",
    "\n",
    "    def __len__(self):\n",
    "        return sum(p['cantidad'] for p in self.productos.values())\n",
    "\n",
    "    def exportar_resumen(self, descuento=0):\n",
    "        fecha = datetime.datetime.now().strftime(\"%Y-%m-%d_%H-%M-%S\")\n",
    "        resumen = f\"Resumen de compra - {fecha}\"\n",
    "\n",
    "        wb = Workbook()\n",
    "        ws = wb.active\n",
    "        ws.title = \"Resumen Compra\"\n",
    "        ws.append([\"ID\", \"Producto\", \"Precio\", \"Cantidad\", \"Subtotal\"])\n",
    "        for p in self.productos.values():\n",
    "            prod = p['producto']\n",
    "            subtotal = prod.precio * p['cantidad']\n",
    "            ws.append([prod.id_producto, prod.nombre, prod.precio, p['cantidad'], subtotal])\n",
    "        total = self.calcular_total(descuento)\n",
    "        ws.append([])\n",
    "        ws.append([\"Total con descuento\", total])\n",
    "        wb.save(\"resumen_compra.xlsx\")\n",
    "\n",
    "        pdf = FPDF()\n",
    "        pdf.add_page()\n",
    "        pdf.set_font(\"Arial\", size=12)\n",
    "        pdf.cell(200, 10, txt=resumen, ln=True, align='C')\n",
    "        pdf.ln(10)\n",
    "        for p in self.productos.values():\n",
    "            prod = p['producto']\n",
    "            subtotal = prod.precio * p['cantidad']\n",
    "            pdf.cell(200, 10, txt=f\"{prod} x {p['cantidad']} = ${subtotal:.2f}\", ln=True)\n",
    "        pdf.ln(10)\n",
    "        pdf.cell(200, 10, txt=f\"Total con {descuento}% de descuento: ${total:.2f}\", ln=True)\n",
    "        pdf.output(\"resumen_compra.pdf\")\n",
    "\n",
    "        engine = pyttsx3.init()\n",
    "        resumen_audio = f\"Resumen de la compra. Usted ha comprado {len(self)} productos. El total con descuento es de {total:.2f} dólares.\"\n",
    "        engine.save_to_file(resumen_audio, \"resumen_compra.mp3\")\n",
    "        engine.runAndWait()"
   ]
  },
  {
   "cell_type": "code",
   "execution_count": null,
   "id": "4836508e-3bfb-42df-9e6d-31cce3746fc1",
   "metadata": {},
   "outputs": [],
   "source": []
  }
 ],
 "metadata": {
  "kernelspec": {
   "display_name": "anaconda-panel-2023.05-py310",
   "language": "python",
   "name": "conda-env-anaconda-panel-2023.05-py310-py"
  },
  "language_info": {
   "codemirror_mode": {
    "name": "ipython",
    "version": 3
   },
   "file_extension": ".py",
   "mimetype": "text/x-python",
   "name": "python",
   "nbconvert_exporter": "python",
   "pygments_lexer": "ipython3",
   "version": "3.11.5"
  }
 },
 "nbformat": 4,
 "nbformat_minor": 5
}
